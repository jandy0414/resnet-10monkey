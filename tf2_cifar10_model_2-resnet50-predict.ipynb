{
 "cells": [
  {
   "cell_type": "markdown",
   "metadata": {},
   "source": [
    "## 评估测试模型效果，加载模型"
   ]
  },
  {
   "cell_type": "code",
   "execution_count": 1,
   "metadata": {},
   "outputs": [
    {
     "name": "stdout",
     "output_type": "stream",
     "text": [
      "2.0.0\n",
      "sys.version_info(major=3, minor=6, micro=2, releaselevel='final', serial=0)\n",
      "matplotlib 3.1.2\n",
      "numpy 1.18.0\n",
      "pandas 0.25.3\n",
      "sklearn 0.22\n",
      "tensorflow 2.0.0\n",
      "tensorflow_core.keras 2.2.4-tf\n"
     ]
    }
   ],
   "source": [
    "import matplotlib as mpl\n",
    "import matplotlib.pyplot as plt\n",
    "import numpy as np\n",
    "import os\n",
    "import pandas as pd\n",
    "import sklearn\n",
    "import sys\n",
    "import tensorflow as tf\n",
    "import time\n",
    "\n",
    "from tensorflow import keras\n",
    "\n",
    "print(tf.__version__)\n",
    "print(sys.version_info)\n",
    "for module in mpl, np, pd, sklearn, tf, keras:\n",
    "    print(module.__name__, module.__version__)"
   ]
  },
  {
   "cell_type": "code",
   "execution_count": 2,
   "metadata": {},
   "outputs": [
    {
     "name": "stdout",
     "output_type": "stream",
     "text": [
      "Model: \"sequential\"\n",
      "_________________________________________________________________\n",
      "Layer (type)                 Output Shape              Param #   \n",
      "=================================================================\n",
      "resnet50 (Model)             multiple                  23587712  \n",
      "_________________________________________________________________\n",
      "dense (Dense)                multiple                  20490     \n",
      "=================================================================\n",
      "Total params: 23,608,202\n",
      "Trainable params: 23,555,082\n",
      "Non-trainable params: 53,120\n",
      "_________________________________________________________________\n"
     ]
    }
   ],
   "source": [
    "## 载入已经训练好的模型\n",
    "model = keras.models.load_model('./save_model/resnet50_0320')\n",
    "model.summary()"
   ]
  },
  {
   "cell_type": "code",
   "execution_count": 3,
   "metadata": {},
   "outputs": [
    {
     "name": "stdout",
     "output_type": "stream",
     "text": [
      "[('C:/test\\\\1.png', 'cat'),\n",
      " ('C:/test\\\\2.png', 'cat'),\n",
      " ('C:/test\\\\3.png', 'cat'),\n",
      " ('C:/test\\\\4.png', 'cat'),\n",
      " ('C:/test\\\\5.png', 'cat')]\n",
      "300000\n"
     ]
    }
   ],
   "source": [
    "class_names = [\n",
    "    'airplane',\n",
    "    'automobile',\n",
    "    'bird',\n",
    "    'cat',\n",
    "    'deer',\n",
    "    'dog',\n",
    "    'frog',\n",
    "    'horse',\n",
    "    'ship',\n",
    "    'truck',\n",
    "]\n",
    "test_csv_file = './cifar10/sampleSubmission.csv'\n",
    "test_folder = 'C:/test'## 混有29万张防止作弊的无效图片，图片目标过大，发现加载有问题，使用绝对目录\n",
    "\n",
    "def parse_csv_file(filepath, folder):\n",
    "    \"\"\"Parses csv files into (filename(path), label) format\"\"\"\n",
    "    results = []\n",
    "    with open(filepath, 'r') as f:\n",
    "        lines = f.readlines()[1:]\n",
    "    for line in lines:\n",
    "        image_id, label_str = line.strip('\\n').split(',')\n",
    "        image_full_path = os.path.join(folder, image_id + '.png')\n",
    "        results.append((image_full_path, label_str))\n",
    "    return results\n",
    "\n",
    "test_csv_info = parse_csv_file(test_csv_file, test_folder)\n",
    "\n",
    "import pprint\n",
    "pprint.pprint(test_csv_info[0:5])\n",
    "print(len(test_csv_info))"
   ]
  },
  {
   "cell_type": "code",
   "execution_count": 4,
   "metadata": {},
   "outputs": [
    {
     "name": "stdout",
     "output_type": "stream",
     "text": [
      "        filepath class\n",
      "0  C:/test\\1.png   cat\n",
      "1  C:/test\\2.png   cat\n",
      "2  C:/test\\3.png   cat\n",
      "3  C:/test\\4.png   cat\n",
      "4  C:/test\\5.png   cat\n"
     ]
    }
   ],
   "source": [
    "test_df = pd.DataFrame(test_csv_info)\n",
    "test_df.columns = ['filepath', 'class']\n",
    "print(test_df.head())"
   ]
  },
  {
   "cell_type": "code",
   "execution_count": 5,
   "metadata": {},
   "outputs": [
    {
     "name": "stdout",
     "output_type": "stream",
     "text": [
      "Found 300000 validated image filenames belonging to 10 classes.\n",
      "300000\n"
     ]
    }
   ],
   "source": [
    "height = 32\n",
    "width = 32\n",
    "channels = 3\n",
    "batch_size = 32\n",
    "num_classes = 10\n",
    "\n",
    "test_datagen = keras.preprocessing.image.ImageDataGenerator(\n",
    "    rescale = 1./255)\n",
    "test_generator = test_datagen.flow_from_dataframe(\n",
    "    test_df,\n",
    "    directory = './',\n",
    "    x_col = 'filepath',\n",
    "    y_col = 'class',\n",
    "    classes = class_names,\n",
    "    target_size = (height, width),\n",
    "    batch_size = batch_size,\n",
    "    seed = 7, \n",
    "    shuffle = False,\n",
    "    class_mode = \"sparse\")\n",
    "test_num = test_generator.samples\n",
    "print(test_num)"
   ]
  },
  {
   "cell_type": "code",
   "execution_count": 7,
   "metadata": {},
   "outputs": [
    {
     "name": "stdout",
     "output_type": "stream",
     "text": [
      "9375/9375 [==============================] - 111s 12ms/step\n",
      "Wall time: 1min 51s\n"
     ]
    }
   ],
   "source": [
    "%%time\n",
    "# 并行化,workers 为10个进程或线程，当use_multiprocessing = True 为多进程，，当为False 时为多线程\n",
    "test_predict = model.predict_generator(test_generator,\n",
    "                                       workers = 16,\n",
    "                                       use_multiprocessing = False,\n",
    "                                       verbose = 1)"
   ]
  },
  {
   "cell_type": "code",
   "execution_count": 8,
   "metadata": {},
   "outputs": [
    {
     "name": "stdout",
     "output_type": "stream",
     "text": [
      "(300000, 10)\n",
      "[[1.5346359e-01 4.2915123e-04 8.1389570e-01 3.2077865e-03 5.1078358e-04\n",
      "  1.1555092e-02 8.6429166e-03 1.3687456e-03 1.1281075e-03 5.7981159e-03]\n",
      " [9.9995577e-01 1.2881770e-07 3.1638981e-05 6.7410315e-06 2.2979153e-11\n",
      "  7.4596824e-07 3.5974704e-06 2.9561619e-07 1.0550895e-06 2.2434120e-08]\n",
      " [5.3581505e-08 9.8996818e-01 3.3947944e-09 1.8416473e-07 6.4708289e-10\n",
      "  7.5173432e-09 2.3868357e-05 2.0996008e-10 1.5832169e-08 1.0007801e-02]\n",
      " [2.5378698e-05 1.4155447e-05 9.9151812e-06 8.2114102e-06 1.1300784e-05\n",
      "  1.5836937e-05 9.7873526e-05 6.5446568e-07 9.9980921e-01 7.5528478e-06]\n",
      " [2.6436636e-01 1.1524212e-06 7.3422664e-01 2.6001662e-06 4.8840931e-04\n",
      "  1.9189991e-07 4.2207054e-07 1.4134720e-05 8.8338088e-04 1.6574500e-05]]\n"
     ]
    }
   ],
   "source": [
    "print(test_predict.shape)\n",
    "print(test_predict[0:5])"
   ]
  },
  {
   "cell_type": "code",
   "execution_count": 9,
   "metadata": {},
   "outputs": [
    {
     "name": "stdout",
     "output_type": "stream",
     "text": [
      "[2 0 1 8 2 3 0 3 0 3 2 6 7 6 5 2 5 4 0 3]\n",
      "['bird', 'airplane', 'automobile', 'ship', 'bird', 'cat', 'airplane', 'cat', 'airplane', 'cat', 'bird', 'frog', 'horse', 'frog', 'dog', 'bird', 'dog', 'deer', 'airplane', 'cat']\n"
     ]
    }
   ],
   "source": [
    "test_predict_class_indices = np.argmax(test_predict, axis = 1)\n",
    "print(test_predict_class_indices[0:20])\n",
    "test_predict_class = [class_names[index] \n",
    "                      for index in test_predict_class_indices]\n",
    "print(test_predict_class[0:20])"
   ]
  },
  {
   "cell_type": "code",
   "execution_count": 11,
   "metadata": {},
   "outputs": [],
   "source": [
    "def generate_submissions(filename, predict_class):\n",
    "    with open(filename, 'w') as f:\n",
    "        f.write('id,label\\n')\n",
    "        for i in range(len(predict_class)):\n",
    "            f.write('%d,%s\\n' % (i+1, predict_class[i]))\n",
    "\n",
    "output_file = \"./cifar10/out_submit/submission_jandy_resnet50.csv\"\n",
    "generate_submissions(output_file, test_predict_class)"
   ]
  },
  {
   "cell_type": "code",
   "execution_count": null,
   "metadata": {},
   "outputs": [],
   "source": []
  }
 ],
 "metadata": {
  "kernelspec": {
   "display_name": "Python 3",
   "language": "python",
   "name": "python3"
  },
  "language_info": {
   "codemirror_mode": {
    "name": "ipython",
    "version": 3
   },
   "file_extension": ".py",
   "mimetype": "text/x-python",
   "name": "python",
   "nbconvert_exporter": "python",
   "pygments_lexer": "ipython3",
   "version": "3.6.2"
  }
 },
 "nbformat": 4,
 "nbformat_minor": 2
}
